{
 "cells": [
  {
   "cell_type": "code",
   "execution_count": 3,
   "id": "0b99b66e",
   "metadata": {},
   "outputs": [],
   "source": [
    "def distance(x1, x2, y1, y2):\n",
    "    return (x1*x2 + y1*y2)/((np.sqrt(x1**2 + y1**2))*(np.sqrt(x2**2 + y2**2)))"
   ]
  },
  {
   "cell_type": "code",
   "execution_count": 4,
   "id": "d5ed5679",
   "metadata": {},
   "outputs": [],
   "source": [
    "def get_label(point_x1, point_x2):\n",
    "    index = None\n",
    "    dist = 0\n",
    "    for i in range(0, len(x1)):\n",
    "        if point_x1 != x1[i] and point_x2 != x2[i]:\n",
    "            point_dist = distance(point_x1, x1[i], point_x2, x2[i])\n",
    "            if point_dist < dist or dist == 0:\n",
    "                index = i\n",
    "                dist = point_dist\n",
    "    if index is not None:\n",
    "        return y[index]\n",
    "    else:\n",
    "        return \"That makes like no sense?\""
   ]
  },
  {
   "cell_type": "code",
   "execution_count": 7,
   "id": "4bb0e9c1",
   "metadata": {},
   "outputs": [
    {
     "name": "stdout",
     "output_type": "stream",
     "text": [
      "Label of point  1  is  +\n",
      "Label of point  2  is  +\n",
      "Label of point  3  is  +\n",
      "Label of point  4  is  +\n",
      "Label of point  5  is  +\n"
     ]
    }
   ],
   "source": [
    "x1 = [2,2,3,4,5,5,5,7,7,8,8,8]\n",
    "x2 = [6,7,7,8,1,4,9,2,3,3,4,8]\n",
    "y = [\"-\", \"+\", \"-\", \"-\",\"+\",\"+\",\"+\",\"-\",\"+\",\"-\",\"+\",\"-\"] \n",
    "test_x1 = [1,4,6,9,5]\n",
    "test_x2 = [5,7,2,5,5]\n",
    "for i in range(0, len(test_x1)):\n",
    "    print(\"Label of point \", (i+1), \" is \",get_label(test_x1[i], test_x2[i]))\n",
    "\n",
    "    \n",
    "#(c)Note that since we defined k = 1, I just took the closest point's label to define the label of the test data\n",
    "#The points that are missclassified are 1 and 5, giving a test error of 0.4 (or an accuracy of 0.6)"
   ]
  },
  {
   "cell_type": "code",
   "execution_count": 6,
   "id": "99d000d1",
   "metadata": {},
   "outputs": [],
   "source": [
    "import numpy as np"
   ]
  }
 ],
 "metadata": {
  "kernelspec": {
   "display_name": "Python 3 (ipykernel)",
   "language": "python",
   "name": "python3"
  },
  "language_info": {
   "codemirror_mode": {
    "name": "ipython",
    "version": 3
   },
   "file_extension": ".py",
   "mimetype": "text/x-python",
   "name": "python",
   "nbconvert_exporter": "python",
   "pygments_lexer": "ipython3",
   "version": "3.11.5"
  }
 },
 "nbformat": 4,
 "nbformat_minor": 5
}
